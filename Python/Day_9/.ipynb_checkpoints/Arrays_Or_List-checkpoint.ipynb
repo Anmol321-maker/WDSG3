{
 "cells": [
  {
   "cell_type": "markdown",
   "id": "fa3be2c3-41c3-41d4-8970-664f49aad037",
   "metadata": {},
   "source": [
    "Array is a linear data structure where all elements are arranged sequentially. It is a collection of elements of same data type stored at contiguous memory locations. "
   ]
  },
  {
   "cell_type": "code",
   "execution_count": 1,
   "id": "efb93797-d4e3-4b92-a413-94b3aa2bd0a0",
   "metadata": {},
   "outputs": [
    {
     "data": {
      "text/plain": [
       "5"
      ]
     },
     "execution_count": 1,
     "metadata": {},
     "output_type": "execute_result"
    }
   ],
   "source": [
    "len(\"Mehak\")"
   ]
  },
  {
   "cell_type": "code",
   "execution_count": 2,
   "id": "e91b1ed0-877f-4f93-9dc6-fead665c453e",
   "metadata": {},
   "outputs": [
    {
     "data": {
      "text/plain": [
       "3"
      ]
     },
     "execution_count": 2,
     "metadata": {},
     "output_type": "execute_result"
    }
   ],
   "source": [
    "len({1, 2, 3})"
   ]
  },
  {
   "cell_type": "code",
   "execution_count": 3,
   "id": "16520506-d99d-440d-a6fc-6646aa314b23",
   "metadata": {},
   "outputs": [
    {
     "ename": "TypeError",
     "evalue": "object of type 'int' has no len()",
     "output_type": "error",
     "traceback": [
      "\u001b[1;31m---------------------------------------------------------------------------\u001b[0m",
      "\u001b[1;31mTypeError\u001b[0m                                 Traceback (most recent call last)",
      "Cell \u001b[1;32mIn[3], line 1\u001b[0m\n\u001b[1;32m----> 1\u001b[0m \u001b[38;5;28mlen\u001b[39m(\u001b[38;5;241m123\u001b[39m)\n",
      "\u001b[1;31mTypeError\u001b[0m: object of type 'int' has no len()"
     ]
    }
   ],
   "source": [
    "len(123)"
   ]
  },
  {
   "cell_type": "code",
   "execution_count": 5,
   "id": "c176f4b2-232d-4e9c-8e01-ceb52874462d",
   "metadata": {},
   "outputs": [],
   "source": [
    "# creating class with __init__ method/function\n",
    "class My_first:\n",
    "    def __init__(xyz, name, age, gender):\n",
    "        xyz.name = name\n",
    "        xyz.age = age\n",
    "        xyz.gender = gender"
   ]
  },
  {
   "cell_type": "code",
   "execution_count": 6,
   "id": "bb55c2a5-363d-42be-b4d4-f23244c1382d",
   "metadata": {},
   "outputs": [],
   "source": [
    "# create object using My_first class\n",
    "\n",
    "Member_1 = My_first(\"Amit\", \"31\", \"Male\")"
   ]
  },
  {
   "cell_type": "code",
   "execution_count": 7,
   "id": "ca4dc42f-addd-416e-905e-c35a7e11121d",
   "metadata": {},
   "outputs": [
    {
     "data": {
      "text/plain": [
       "<__main__.My_first at 0x13e8452c4d0>"
      ]
     },
     "execution_count": 7,
     "metadata": {},
     "output_type": "execute_result"
    }
   ],
   "source": [
    "Member_1"
   ]
  },
  {
   "cell_type": "code",
   "execution_count": 8,
   "id": "063bc986-b6ac-4435-a38f-2c0769677180",
   "metadata": {},
   "outputs": [
    {
     "data": {
      "text/plain": [
       "'Amit'"
      ]
     },
     "execution_count": 8,
     "metadata": {},
     "output_type": "execute_result"
    }
   ],
   "source": [
    "Member_1.name"
   ]
  },
  {
   "cell_type": "code",
   "execution_count": 9,
   "id": "3b26c56f-2364-4e57-8cdf-90c38a2ac8e5",
   "metadata": {},
   "outputs": [
    {
     "data": {
      "text/plain": [
       "'31'"
      ]
     },
     "execution_count": 9,
     "metadata": {},
     "output_type": "execute_result"
    }
   ],
   "source": [
    "Member_1.age"
   ]
  },
  {
   "cell_type": "code",
   "execution_count": 10,
   "id": "49c815b2-7843-4c62-bcd9-2e5611d0d64c",
   "metadata": {},
   "outputs": [
    {
     "data": {
      "text/plain": [
       "'Male'"
      ]
     },
     "execution_count": 10,
     "metadata": {},
     "output_type": "execute_result"
    }
   ],
   "source": [
    "Member_1.gender"
   ]
  },
  {
   "cell_type": "code",
   "execution_count": 11,
   "id": "1d9390c9-aa83-4704-8f95-e6be862fa6a5",
   "metadata": {},
   "outputs": [
    {
     "name": "stdout",
     "output_type": "stream",
     "text": [
      "<__main__.My_first object at 0x0000013E8452C4D0>\n"
     ]
    }
   ],
   "source": [
    "print(Member_1)"
   ]
  },
  {
   "cell_type": "code",
   "execution_count": 15,
   "id": "d7ec32e3-3d84-4408-8bf7-9b472b514911",
   "metadata": {},
   "outputs": [],
   "source": [
    "class Person:\n",
    "  def __init__(self, name, age):\n",
    "    self.name = name\n",
    "    self.age = age\n",
    "\n",
    "  def __str__(self):\n",
    "    return f\"{self.name}({self.age})\"\n",
    "      \n",
    "  def myfunc(self):\n",
    "    print(\"Hello my name is \" + self.name)"
   ]
  },
  {
   "cell_type": "code",
   "execution_count": 16,
   "id": "86469390-3a69-4f46-8071-6d773ca8bbec",
   "metadata": {},
   "outputs": [
    {
     "name": "stdout",
     "output_type": "stream",
     "text": [
      "John(36)\n"
     ]
    }
   ],
   "source": [
    "pk = Person(\"John\", 36)\n",
    "\n",
    "print(pk)"
   ]
  },
  {
   "cell_type": "code",
   "execution_count": 17,
   "id": "24614b23-899a-4e7f-a00f-227458dd96c4",
   "metadata": {},
   "outputs": [
    {
     "name": "stdout",
     "output_type": "stream",
     "text": [
      "Hello my name is John\n"
     ]
    }
   ],
   "source": [
    "pk.myfunc()"
   ]
  },
  {
   "cell_type": "code",
   "execution_count": 18,
   "id": "7db355b3-2a8e-49cd-9298-2a8d6fc07743",
   "metadata": {},
   "outputs": [],
   "source": [
    "pk_1 = 5"
   ]
  },
  {
   "cell_type": "code",
   "execution_count": 19,
   "id": "d7ffa508-20c9-4da2-ac8b-42dde34b41cb",
   "metadata": {},
   "outputs": [
    {
     "ename": "AttributeError",
     "evalue": "'int' object has no attribute 'name'",
     "output_type": "error",
     "traceback": [
      "\u001b[1;31m---------------------------------------------------------------------------\u001b[0m",
      "\u001b[1;31mAttributeError\u001b[0m                            Traceback (most recent call last)",
      "Cell \u001b[1;32mIn[19], line 1\u001b[0m\n\u001b[1;32m----> 1\u001b[0m pk_1\u001b[38;5;241m.\u001b[39mname\n",
      "\u001b[1;31mAttributeError\u001b[0m: 'int' object has no attribute 'name'"
     ]
    }
   ],
   "source": [
    "pk_1.name"
   ]
  },
  {
   "cell_type": "code",
   "execution_count": null,
   "id": "59ecbc7b-1883-4af7-8ad9-67f65676ebbc",
   "metadata": {},
   "outputs": [],
   "source": []
  }
 ],
 "metadata": {
  "kernelspec": {
   "display_name": "Python 3 (ipykernel)",
   "language": "python",
   "name": "python3"
  },
  "language_info": {
   "codemirror_mode": {
    "name": "ipython",
    "version": 3
   },
   "file_extension": ".py",
   "mimetype": "text/x-python",
   "name": "python",
   "nbconvert_exporter": "python",
   "pygments_lexer": "ipython3",
   "version": "3.11.7"
  }
 },
 "nbformat": 4,
 "nbformat_minor": 5
}
