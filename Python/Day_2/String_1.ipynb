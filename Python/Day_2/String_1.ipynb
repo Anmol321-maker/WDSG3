{
 "cells": [
  {
   "cell_type": "code",
   "execution_count": 2,
   "id": "1b60c786-6077-4fe0-85cc-ff402c0ce4bd",
   "metadata": {},
   "outputs": [],
   "source": [
    "a = \"abhishek\""
   ]
  },
  {
   "cell_type": "code",
   "execution_count": 3,
   "id": "a5f60fd9-5a96-4daa-89bb-14c3ec522e39",
   "metadata": {},
   "outputs": [
    {
     "name": "stdout",
     "output_type": "stream",
     "text": [
      "8\n"
     ]
    }
   ],
   "source": [
    "print(len(a))"
   ]
  },
  {
   "cell_type": "code",
   "execution_count": 4,
   "id": "8f795469-9ee6-44a3-9e22-1182b539524a",
   "metadata": {},
   "outputs": [
    {
     "name": "stdout",
     "output_type": "stream",
     "text": [
      "a\n",
      "b\n",
      "h\n",
      "i\n",
      "s\n",
      "h\n",
      "e\n",
      "k\n"
     ]
    }
   ],
   "source": [
    "for A in a:\n",
    "    print(A)"
   ]
  },
  {
   "cell_type": "code",
   "execution_count": 5,
   "id": "a1e2a4f0-2d0e-4429-872b-2e1bacad24d1",
   "metadata": {},
   "outputs": [],
   "source": [
    "My_Str = \"Amit\""
   ]
  },
  {
   "cell_type": "code",
   "execution_count": 7,
   "id": "d656d083-c2f7-4c13-ba9f-25de79bc064b",
   "metadata": {},
   "outputs": [
    {
     "name": "stdout",
     "output_type": "stream",
     "text": [
      "A\n",
      "m\n",
      "i\n",
      "t\n"
     ]
    }
   ],
   "source": [
    "for j in My_Str:\n",
    "    print(j)"
   ]
  },
  {
   "cell_type": "code",
   "execution_count": 8,
   "id": "2282f44c-605f-4741-bcac-f0f4bd26662d",
   "metadata": {},
   "outputs": [
    {
     "data": {
      "text/plain": [
       "4"
      ]
     },
     "execution_count": 8,
     "metadata": {},
     "output_type": "execute_result"
    }
   ],
   "source": [
    "len(My_Str)"
   ]
  }
 ],
 "metadata": {
  "kernelspec": {
   "display_name": "Python 3 (ipykernel)",
   "language": "python",
   "name": "python3"
  },
  "language_info": {
   "codemirror_mode": {
    "name": "ipython",
    "version": 3
   },
   "file_extension": ".py",
   "mimetype": "text/x-python",
   "name": "python",
   "nbconvert_exporter": "python",
   "pygments_lexer": "ipython3",
   "version": "3.11.7"
  }
 },
 "nbformat": 4,
 "nbformat_minor": 5
}
