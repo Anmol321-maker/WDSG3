{
 "cells": [
  {
   "cell_type": "code",
   "execution_count": 1,
   "id": "276ac6f6-f490-4b27-bd6f-933464d9e666",
   "metadata": {},
   "outputs": [],
   "source": [
    "x = 5\n",
    "\n",
    "z = 12"
   ]
  },
  {
   "cell_type": "code",
   "execution_count": 2,
   "id": "4f540444-de92-48c6-abbf-6af94c7bb343",
   "metadata": {},
   "outputs": [
    {
     "data": {
      "text/plain": [
       "False"
      ]
     },
     "execution_count": 2,
     "metadata": {},
     "output_type": "execute_result"
    }
   ],
   "source": [
    "x > z"
   ]
  },
  {
   "cell_type": "code",
   "execution_count": 3,
   "id": "7f7eeeb1-995d-4681-b79a-b6134deb610b",
   "metadata": {},
   "outputs": [],
   "source": [
    "if x > z:\n",
    "    print(\"x is greater\")"
   ]
  },
  {
   "cell_type": "code",
   "execution_count": 4,
   "id": "ef4c32d3-90fe-4f1f-8847-7655949902d5",
   "metadata": {},
   "outputs": [
    {
     "name": "stdout",
     "output_type": "stream",
     "text": [
      "x is smaller\n"
     ]
    }
   ],
   "source": [
    "if x < z:\n",
    "    print(\"x is smaller\")"
   ]
  },
  {
   "cell_type": "code",
   "execution_count": 5,
   "id": "3139116a-3253-4b84-9f3d-bd1baf6aec5b",
   "metadata": {},
   "outputs": [
    {
     "name": "stdout",
     "output_type": "stream",
     "text": [
      "z is greater\n"
     ]
    }
   ],
   "source": [
    "if x > z:\n",
    "    print(\"x is greater\")\n",
    "else:\n",
    "    print(\"z is greater\")"
   ]
  },
  {
   "cell_type": "code",
   "execution_count": 10,
   "id": "03e0e1e5-ca90-4906-a128-472df09db5dd",
   "metadata": {},
   "outputs": [
    {
     "name": "stdin",
     "output_type": "stream",
     "text": [
      "Enter the subject you want to choose after 10th(S or C or A):  f\n"
     ]
    },
    {
     "name": "stdout",
     "output_type": "stream",
     "text": [
      "Out of scope ja rhe ho\n"
     ]
    }
   ],
   "source": [
    "a = input(\"Enter the subject you want to choose after 10th(S or C or A): \")\n",
    "\n",
    "a = a.lower()\n",
    "\n",
    "if a == 's':\n",
    "    print(\"Tmhre lg gye\")\n",
    "elif a == 'c':\n",
    "    print(\"Enjoy the prathas at home\")\n",
    "elif a == 'a':\n",
    "    print(\"Bhai ye si tha\")\n",
    "else:\n",
    "    print(\"Out of scope ja rhe ho\")"
   ]
  },
  {
   "cell_type": "code",
   "execution_count": 11,
   "id": "f4579b36-35f7-4402-9421-6d75ab97c77c",
   "metadata": {},
   "outputs": [
    {
     "ename": "IndentationError",
     "evalue": "expected an indented block after 'if' statement on line 3 (1111622982.py, line 4)",
     "output_type": "error",
     "traceback": [
      "\u001b[1;36m  Cell \u001b[1;32mIn[11], line 4\u001b[1;36m\u001b[0m\n\u001b[1;33m    print(\"b is greater than a\")\u001b[0m\n\u001b[1;37m    ^\u001b[0m\n\u001b[1;31mIndentationError\u001b[0m\u001b[1;31m:\u001b[0m expected an indented block after 'if' statement on line 3\n"
     ]
    }
   ],
   "source": [
    "a = 33\n",
    "b = 200\n",
    "if b > a:\n",
    "print(\"b is greater than a\")"
   ]
  },
  {
   "cell_type": "code",
   "execution_count": 12,
   "id": "cc48ec46-d5cd-4a9a-9977-24b08171ef22",
   "metadata": {},
   "outputs": [],
   "source": [
    "import keyword"
   ]
  },
  {
   "cell_type": "code",
   "execution_count": 14,
   "id": "9a7ed289-904b-407e-8b43-a4f385209550",
   "metadata": {},
   "outputs": [
    {
     "name": "stdout",
     "output_type": "stream",
     "text": [
      "['False', 'None', 'True', 'and', 'as', 'assert', 'async', 'await', 'break', 'class', 'continue', 'def', 'del', 'elif', 'else', 'except', 'finally', 'for', 'from', 'global', 'if', 'import', 'in', 'is', 'lambda', 'nonlocal', 'not', 'or', 'pass', 'raise', 'return', 'try', 'while', 'with', 'yield']\n"
     ]
    }
   ],
   "source": [
    "print(keyword.kwlist)"
   ]
  },
  {
   "cell_type": "code",
   "execution_count": 18,
   "id": "ee9a4e9d-ec6b-4196-90db-2046d6e66f05",
   "metadata": {},
   "outputs": [],
   "source": [
    "a = 200\n",
    "b = 33\n",
    "c = 500\n",
    "if a < b and c > a:\n",
    "  print(\"Both conditions are True\")"
   ]
  },
  {
   "cell_type": "code",
   "execution_count": 23,
   "id": "c71d3a7b-9cba-4927-9dc5-c4885aa81922",
   "metadata": {},
   "outputs": [
    {
     "name": "stdout",
     "output_type": "stream",
     "text": [
      "Both conditions are True\n"
     ]
    }
   ],
   "source": [
    "a = 200\n",
    "b = 33\n",
    "c = 500\n",
    "if a < b or c > a:\n",
    "  print(\"Both conditions are True\")"
   ]
  },
  {
   "cell_type": "code",
   "execution_count": 29,
   "id": "8488eba5-fc67-41a3-a470-ac45bcc9bebd",
   "metadata": {},
   "outputs": [
    {
     "name": "stdout",
     "output_type": "stream",
     "text": [
      "Above ten,\n",
      "but not above 20.\n"
     ]
    }
   ],
   "source": [
    "# Nested if\n",
    "x = 11\n",
    "\n",
    "\n",
    "if x > 10:                   #pehle to ye condition check hogi\n",
    "  print(\"Above ten,\")        # agr cond. true hoti h to ye line v chlegi\n",
    "  if x > 20:                 # fir ye condition check hogi\n",
    "      print(\"and also above 20!\")\n",
    "  else:\n",
    "      print(\"but not above 20.\")"
   ]
  },
  {
   "cell_type": "code",
   "execution_count": 31,
   "id": "1bc93845-f5ec-4878-8a4c-10aece004adb",
   "metadata": {},
   "outputs": [],
   "source": [
    "if b > a:\n",
    "    pass"
   ]
  }
 ],
 "metadata": {
  "kernelspec": {
   "display_name": "Python 3 (ipykernel)",
   "language": "python",
   "name": "python3"
  },
  "language_info": {
   "codemirror_mode": {
    "name": "ipython",
    "version": 3
   },
   "file_extension": ".py",
   "mimetype": "text/x-python",
   "name": "python",
   "nbconvert_exporter": "python",
   "pygments_lexer": "ipython3",
   "version": "3.11.7"
  }
 },
 "nbformat": 4,
 "nbformat_minor": 5
}
