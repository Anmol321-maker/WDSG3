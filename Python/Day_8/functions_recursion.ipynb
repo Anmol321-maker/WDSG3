{
 "cells": [
  {
   "cell_type": "code",
   "execution_count": 1,
   "id": "5fc1031f-832a-4356-a363-b0c97d957172",
   "metadata": {},
   "outputs": [
    {
     "data": {
      "text/plain": [
       "5"
      ]
     },
     "execution_count": 1,
     "metadata": {},
     "output_type": "execute_result"
    }
   ],
   "source": [
    "len(\"Lalit\")"
   ]
  },
  {
   "cell_type": "code",
   "execution_count": 2,
   "id": "199fc4e4-ae99-4240-ab53-a0bb039fc80c",
   "metadata": {},
   "outputs": [
    {
     "ename": "TypeError",
     "evalue": "object of type 'int' has no len()",
     "output_type": "error",
     "traceback": [
      "\u001b[1;31m---------------------------------------------------------------------------\u001b[0m",
      "\u001b[1;31mTypeError\u001b[0m                                 Traceback (most recent call last)",
      "Cell \u001b[1;32mIn[2], line 1\u001b[0m\n\u001b[1;32m----> 1\u001b[0m \u001b[38;5;28mlen\u001b[39m(\u001b[38;5;241m1234\u001b[39m)\n",
      "\u001b[1;31mTypeError\u001b[0m: object of type 'int' has no len()"
     ]
    }
   ],
   "source": [
    "len(1234)"
   ]
  },
  {
   "cell_type": "code",
   "execution_count": 3,
   "id": "108aacaa-13e6-40e8-a10e-d72967562687",
   "metadata": {},
   "outputs": [
    {
     "ename": "TypeError",
     "evalue": "object of type 'float' has no len()",
     "output_type": "error",
     "traceback": [
      "\u001b[1;31m---------------------------------------------------------------------------\u001b[0m",
      "\u001b[1;31mTypeError\u001b[0m                                 Traceback (most recent call last)",
      "Cell \u001b[1;32mIn[3], line 1\u001b[0m\n\u001b[1;32m----> 1\u001b[0m \u001b[38;5;28mlen\u001b[39m(\u001b[38;5;241m1.23\u001b[39m)\n",
      "\u001b[1;31mTypeError\u001b[0m: object of type 'float' has no len()"
     ]
    }
   ],
   "source": [
    "len(1.23)"
   ]
  },
  {
   "cell_type": "markdown",
   "id": "f2cacebd-08ba-4cc3-899c-523dccff5b2c",
   "metadata": {},
   "source": [
    "# Functions ---> A special block of code written to perform a particular task."
   ]
  },
  {
   "cell_type": "code",
   "execution_count": 1,
   "id": "5a9d0557-af80-41fe-a1c0-aecd32626fe4",
   "metadata": {},
   "outputs": [],
   "source": [
    "# SI = P*R*T/100"
   ]
  },
  {
   "cell_type": "code",
   "execution_count": 2,
   "id": "8f8db33c-4277-4e8c-ae5d-e0a4ae166517",
   "metadata": {},
   "outputs": [],
   "source": [
    "# defining a function with parameters -- P, R, T\n",
    "def SI(P, R, T):\n",
    "    return ((P*R*T)/100)"
   ]
  },
  {
   "cell_type": "code",
   "execution_count": 3,
   "id": "b5e6b5c3-8f7d-4661-b278-ee9355add667",
   "metadata": {},
   "outputs": [
    {
     "data": {
      "text/plain": [
       "2500.0"
      ]
     },
     "execution_count": 3,
     "metadata": {},
     "output_type": "execute_result"
    }
   ],
   "source": [
    "# Calling a function with arguments\n",
    "SI(P = 5000, R = 10, T = 5)"
   ]
  },
  {
   "cell_type": "code",
   "execution_count": 4,
   "id": "ddd668d6-9a49-4764-81b3-9b14a5564bc8",
   "metadata": {},
   "outputs": [],
   "source": [
    "# Defining a function without parameters.\n",
    "def my_function():\n",
    "  print(\"Hello from a function\")"
   ]
  },
  {
   "cell_type": "code",
   "execution_count": 5,
   "id": "a8bfcc29-0ee9-4901-914c-55920733ebf9",
   "metadata": {},
   "outputs": [
    {
     "name": "stdout",
     "output_type": "stream",
     "text": [
      "Hello from a function\n"
     ]
    }
   ],
   "source": [
    "# Calling a function\n",
    "my_function()"
   ]
  },
  {
   "cell_type": "code",
   "execution_count": 6,
   "id": "9df59b69-6d92-4aeb-aba6-15fdc28b7874",
   "metadata": {},
   "outputs": [
    {
     "data": {
      "text/plain": [
       "640.0"
      ]
     },
     "execution_count": 6,
     "metadata": {},
     "output_type": "execute_result"
    }
   ],
   "source": [
    "SI(4000,8,2)"
   ]
  },
  {
   "cell_type": "code",
   "execution_count": 7,
   "id": "f4d90e40-4230-4a07-a1e7-9de49dbf4f5f",
   "metadata": {},
   "outputs": [
    {
     "data": {
      "text/plain": [
       "40000.0"
      ]
     },
     "execution_count": 7,
     "metadata": {},
     "output_type": "execute_result"
    }
   ],
   "source": [
    "SI(50000, 8, 10)"
   ]
  },
  {
   "cell_type": "code",
   "execution_count": 16,
   "id": "8acb1ffc-51fa-401c-ac9f-0b0860cd18fc",
   "metadata": {},
   "outputs": [],
   "source": [
    "def sum(a,b):\n",
    "    print(a+b)"
   ]
  },
  {
   "cell_type": "code",
   "execution_count": 17,
   "id": "9694ab12-57c0-4a58-8348-ea974729f686",
   "metadata": {},
   "outputs": [
    {
     "name": "stdout",
     "output_type": "stream",
     "text": [
      "17\n"
     ]
    }
   ],
   "source": [
    "sum(9,8)"
   ]
  },
  {
   "cell_type": "code",
   "execution_count": 20,
   "id": "abb454cd-5392-4dc2-8ed0-0a15cde16efe",
   "metadata": {},
   "outputs": [],
   "source": [
    "def my_function(*kids):\n",
    "  print(\"The youngest child is \" + kids[3])"
   ]
  },
  {
   "cell_type": "code",
   "execution_count": 21,
   "id": "5570797f-608d-4a4c-8cbd-415d1a51d2d8",
   "metadata": {},
   "outputs": [
    {
     "name": "stdout",
     "output_type": "stream",
     "text": [
      "The youngest child is Leonidus\n"
     ]
    }
   ],
   "source": [
    "my_function(\"Emil\", \"Tobias\", \"Linus\", \"Leonidus\")"
   ]
  },
  {
   "cell_type": "code",
   "execution_count": 22,
   "id": "d7a78a4f-69ac-4569-adf3-715e18f4a691",
   "metadata": {},
   "outputs": [],
   "source": [
    "def my_function(child3, child2, child1):\n",
    "  print(\"The youngest child is \" + child3)"
   ]
  },
  {
   "cell_type": "code",
   "execution_count": 24,
   "id": "45deef98-05ea-43f6-b862-57138effda35",
   "metadata": {},
   "outputs": [
    {
     "name": "stdout",
     "output_type": "stream",
     "text": [
      "The youngest child is Linus\n"
     ]
    }
   ],
   "source": [
    "my_function(child1 = \"Emil\", child2 = \"Tobias\", child3 = \"Linus\")"
   ]
  },
  {
   "cell_type": "code",
   "execution_count": 27,
   "id": "f46c04a4-f6d8-4ba6-bfa0-f779cb8ae189",
   "metadata": {},
   "outputs": [
    {
     "ename": "TypeError",
     "evalue": "can only concatenate str (not \"int\") to str",
     "output_type": "error",
     "traceback": [
      "\u001b[1;31m---------------------------------------------------------------------------\u001b[0m",
      "\u001b[1;31mTypeError\u001b[0m                                 Traceback (most recent call last)",
      "Cell \u001b[1;32mIn[27], line 4\u001b[0m\n\u001b[0;32m      1\u001b[0m \u001b[38;5;28;01mdef\u001b[39;00m \u001b[38;5;21mmy_function\u001b[39m(\u001b[38;5;241m*\u001b[39m\u001b[38;5;241m*\u001b[39mkid):\n\u001b[0;32m      2\u001b[0m   \u001b[38;5;28mprint\u001b[39m(\u001b[38;5;124m\"\u001b[39m\u001b[38;5;124mHis last name is \u001b[39m\u001b[38;5;124m\"\u001b[39m \u001b[38;5;241m+\u001b[39m kid[\u001b[38;5;124m\"\u001b[39m\u001b[38;5;124msname\u001b[39m\u001b[38;5;124m\"\u001b[39m])\n\u001b[1;32m----> 4\u001b[0m my_function(fname \u001b[38;5;241m=\u001b[39m \u001b[38;5;124m\"\u001b[39m\u001b[38;5;124mTobias\u001b[39m\u001b[38;5;124m\"\u001b[39m, lname \u001b[38;5;241m=\u001b[39m \u001b[38;5;124m\"\u001b[39m\u001b[38;5;124mRefsnes\u001b[39m\u001b[38;5;124m\"\u001b[39m, sname \u001b[38;5;241m=\u001b[39m \u001b[38;5;241m123\u001b[39m)\n",
      "Cell \u001b[1;32mIn[27], line 2\u001b[0m, in \u001b[0;36mmy_function\u001b[1;34m(**kid)\u001b[0m\n\u001b[0;32m      1\u001b[0m \u001b[38;5;28;01mdef\u001b[39;00m \u001b[38;5;21mmy_function\u001b[39m(\u001b[38;5;241m*\u001b[39m\u001b[38;5;241m*\u001b[39mkid):\n\u001b[1;32m----> 2\u001b[0m   \u001b[38;5;28mprint\u001b[39m(\u001b[38;5;124m\"\u001b[39m\u001b[38;5;124mHis last name is \u001b[39m\u001b[38;5;124m\"\u001b[39m \u001b[38;5;241m+\u001b[39m kid[\u001b[38;5;124m\"\u001b[39m\u001b[38;5;124msname\u001b[39m\u001b[38;5;124m\"\u001b[39m])\n",
      "\u001b[1;31mTypeError\u001b[0m: can only concatenate str (not \"int\") to str"
     ]
    }
   ],
   "source": [
    "def my_function(**kid):\n",
    "  print(\"His last name is \" + kid[\"sname\"])\n",
    "\n",
    "my_function(fname = \"Tobias\", lname = \"Refsnes\", sname = 123)"
   ]
  },
  {
   "cell_type": "code",
   "execution_count": 28,
   "id": "168dad40-cf3f-4065-a7aa-ea9afad8bd2f",
   "metadata": {},
   "outputs": [
    {
     "name": "stdout",
     "output_type": "stream",
     "text": [
      "I've got 123 in maths out of 150.\n"
     ]
    }
   ],
   "source": [
    "number = 123\n",
    "print(f\"I've got {number} in maths out of 150.\")"
   ]
  },
  {
   "cell_type": "code",
   "execution_count": 29,
   "id": "aff271ff-e06f-4716-a067-f18a1d75f234",
   "metadata": {},
   "outputs": [
    {
     "ename": "SyntaxError",
     "evalue": "incomplete input (4122323943.py, line 1)",
     "output_type": "error",
     "traceback": [
      "\u001b[1;36m  Cell \u001b[1;32mIn[29], line 1\u001b[1;36m\u001b[0m\n\u001b[1;33m    def myfunction():\u001b[0m\n\u001b[1;37m                     ^\u001b[0m\n\u001b[1;31mSyntaxError\u001b[0m\u001b[1;31m:\u001b[0m incomplete input\n"
     ]
    }
   ],
   "source": [
    "def myfunction():"
   ]
  },
  {
   "cell_type": "code",
   "execution_count": null,
   "id": "dfdac57a-760b-4810-941a-e6132d2e99fe",
   "metadata": {},
   "outputs": [],
   "source": []
  }
 ],
 "metadata": {
  "kernelspec": {
   "display_name": "Python 3 (ipykernel)",
   "language": "python",
   "name": "python3"
  },
  "language_info": {
   "codemirror_mode": {
    "name": "ipython",
    "version": 3
   },
   "file_extension": ".py",
   "mimetype": "text/x-python",
   "name": "python",
   "nbconvert_exporter": "python",
   "pygments_lexer": "ipython3",
   "version": "3.11.7"
  }
 },
 "nbformat": 4,
 "nbformat_minor": 5
}
