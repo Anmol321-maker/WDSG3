{
 "cells": [
  {
   "cell_type": "code",
   "execution_count": 1,
   "id": "48694034-795a-45e6-b71b-d635faa0945e",
   "metadata": {},
   "outputs": [],
   "source": [
    "a = lambda x : x + 15"
   ]
  },
  {
   "cell_type": "code",
   "execution_count": 2,
   "id": "2f4560ca-3b59-4040-ba21-87c087d8e2dd",
   "metadata": {},
   "outputs": [
    {
     "data": {
      "text/plain": [
       "40"
      ]
     },
     "execution_count": 2,
     "metadata": {},
     "output_type": "execute_result"
    }
   ],
   "source": [
    "a(25)"
   ]
  },
  {
   "cell_type": "code",
   "execution_count": 3,
   "id": "39813851-0162-480e-b25b-445904100c69",
   "metadata": {},
   "outputs": [],
   "source": [
    "b = lambda x, y: x + y + 15"
   ]
  },
  {
   "cell_type": "code",
   "execution_count": 5,
   "id": "1625254c-ddcd-4c0b-8ac2-8fc3abf12f65",
   "metadata": {},
   "outputs": [
    {
     "data": {
      "text/plain": [
       "18"
      ]
     },
     "execution_count": 5,
     "metadata": {},
     "output_type": "execute_result"
    }
   ],
   "source": [
    "b(1,2)"
   ]
  },
  {
   "cell_type": "code",
   "execution_count": 6,
   "id": "06aad384-1fe1-4022-9d0c-bc0e4eee6299",
   "metadata": {},
   "outputs": [],
   "source": [
    "def myfunc(n):\n",
    "  return lambda a : a * n"
   ]
  },
  {
   "cell_type": "code",
   "execution_count": 7,
   "id": "022caab1-8cdc-4326-98b1-1decafb79286",
   "metadata": {},
   "outputs": [],
   "source": [
    "doubler = myfunc(2)"
   ]
  },
  {
   "cell_type": "code",
   "execution_count": 9,
   "id": "057e8922-1afc-403a-9910-b1de27fb6c76",
   "metadata": {},
   "outputs": [
    {
     "data": {
      "text/plain": [
       "22"
      ]
     },
     "execution_count": 9,
     "metadata": {},
     "output_type": "execute_result"
    }
   ],
   "source": [
    "doubler(11)"
   ]
  },
  {
   "cell_type": "code",
   "execution_count": 13,
   "id": "bdfdf73b-a145-460d-a5f2-eadec0eeba97",
   "metadata": {},
   "outputs": [],
   "source": [
    "fifer_5 = myfunc(5)"
   ]
  },
  {
   "cell_type": "code",
   "execution_count": 14,
   "id": "b6c76381-360b-4fb6-98a0-71396620a0ad",
   "metadata": {},
   "outputs": [
    {
     "data": {
      "text/plain": [
       "60"
      ]
     },
     "execution_count": 14,
     "metadata": {},
     "output_type": "execute_result"
    }
   ],
   "source": [
    "fifer_5(12)"
   ]
  }
 ],
 "metadata": {
  "kernelspec": {
   "display_name": "Python 3 (ipykernel)",
   "language": "python",
   "name": "python3"
  },
  "language_info": {
   "codemirror_mode": {
    "name": "ipython",
    "version": 3
   },
   "file_extension": ".py",
   "mimetype": "text/x-python",
   "name": "python",
   "nbconvert_exporter": "python",
   "pygments_lexer": "ipython3",
   "version": "3.11.7"
  }
 },
 "nbformat": 4,
 "nbformat_minor": 5
}
