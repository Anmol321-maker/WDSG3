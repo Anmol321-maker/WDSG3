{
 "cells": [
  {
   "cell_type": "code",
   "execution_count": 4,
   "id": "eee97c96-347e-4596-9137-bc02fcc35e69",
   "metadata": {},
   "outputs": [],
   "source": [
    "a = True #1\n",
    "b = False #0"
   ]
  },
  {
   "cell_type": "code",
   "execution_count": 5,
   "id": "f1d2634a-89e8-4661-8106-5783ff58d382",
   "metadata": {},
   "outputs": [
    {
     "name": "stdout",
     "output_type": "stream",
     "text": [
      "<class 'bool'>\n",
      "<class 'bool'>\n"
     ]
    }
   ],
   "source": [
    "print(type(a))\n",
    "print(type(b))"
   ]
  },
  {
   "cell_type": "code",
   "execution_count": 3,
   "id": "084e047d-a89c-471d-aff6-dcaae8e3ed99",
   "metadata": {},
   "outputs": [
    {
     "name": "stdout",
     "output_type": "stream",
     "text": [
      "False\n",
      "False\n",
      "False\n",
      "False\n",
      "False\n",
      "False\n",
      "False\n"
     ]
    }
   ],
   "source": [
    "print(bool(False))\n",
    "print(bool(None))\n",
    "print(bool(0))\n",
    "print(bool(\"\"))\n",
    "print(bool(()))\n",
    "print(bool([]))\n",
    "print(bool({}))"
   ]
  },
  {
   "cell_type": "code",
   "execution_count": 4,
   "id": "f04016e0-6e81-4a85-aa4c-56de27132ef3",
   "metadata": {},
   "outputs": [
    {
     "name": "stdout",
     "output_type": "stream",
     "text": [
      "True\n",
      "True\n",
      "True\n",
      "True\n",
      "True\n"
     ]
    }
   ],
   "source": [
    "print(bool(6))\n",
    "print(bool(\"h\"))\n",
    "print(bool((1,)))\n",
    "print(bool([1,True]))\n",
    "print(bool({1,2,3}))"
   ]
  },
  {
   "cell_type": "code",
   "execution_count": 8,
   "id": "910a8582-f313-4471-b3e4-4b248414fa2a",
   "metadata": {},
   "outputs": [
    {
     "name": "stdout",
     "output_type": "stream",
     "text": [
      "True\n",
      "False\n",
      "False\n"
     ]
    }
   ],
   "source": [
    "print(10 > 9)\n",
    "print(10 == 9)\n",
    "print(10 < 9)"
   ]
  },
  {
   "cell_type": "code",
   "execution_count": 11,
   "id": "e4f822ca-1695-426b-bc62-0c402c44c4ed",
   "metadata": {},
   "outputs": [
    {
     "name": "stdout",
     "output_type": "stream",
     "text": [
      "b is greater than a\n"
     ]
    }
   ],
   "source": [
    "a = 200\n",
    "b = 330\n",
    "\n",
    "if b > a:\n",
    "  print(\"b is greater than a\")\n",
    "else:\n",
    "  print(\"b is not greater than a\")"
   ]
  },
  {
   "cell_type": "code",
   "execution_count": 12,
   "id": "969ab58c-5b2e-4f65-bbfe-97c72845709d",
   "metadata": {},
   "outputs": [
    {
     "name": "stdout",
     "output_type": "stream",
     "text": [
      "True\n"
     ]
    }
   ],
   "source": [
    "print(b > a)"
   ]
  },
  {
   "cell_type": "code",
   "execution_count": 2,
   "id": "efc0071b-17f4-4e77-b3de-9f064fbee4e1",
   "metadata": {},
   "outputs": [
    {
     "name": "stdout",
     "output_type": "stream",
     "text": [
      "NO!\n"
     ]
    }
   ],
   "source": [
    "def myFunction() :\n",
    "  return False\n",
    "\n",
    "if myFunction():\n",
    "  print(\"YES!\")\n",
    "else:\n",
    "  print(\"NO!\")"
   ]
  }
 ],
 "metadata": {
  "kernelspec": {
   "display_name": "Python 3 (ipykernel)",
   "language": "python",
   "name": "python3"
  },
  "language_info": {
   "codemirror_mode": {
    "name": "ipython",
    "version": 3
   },
   "file_extension": ".py",
   "mimetype": "text/x-python",
   "name": "python",
   "nbconvert_exporter": "python",
   "pygments_lexer": "ipython3",
   "version": "3.11.7"
  }
 },
 "nbformat": 4,
 "nbformat_minor": 5
}
