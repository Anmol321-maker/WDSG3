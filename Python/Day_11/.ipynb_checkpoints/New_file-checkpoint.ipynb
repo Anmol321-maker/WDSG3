{
 "cells": [
  {
   "cell_type": "code",
   "execution_count": 4,
   "id": "220fefc7-104e-47f9-860e-81a8dc66f083",
   "metadata": {},
   "outputs": [],
   "source": [
    "import My_module as MD"
   ]
  },
  {
   "cell_type": "code",
   "execution_count": 6,
   "id": "40eebb5b-6746-443f-8e3e-055e7f37ddaa",
   "metadata": {},
   "outputs": [
    {
     "data": {
      "text/plain": [
       "'ab'"
      ]
     },
     "execution_count": 6,
     "metadata": {},
     "output_type": "execute_result"
    }
   ],
   "source": [
    "MD.sum('a','b')"
   ]
  }
 ],
 "metadata": {
  "kernelspec": {
   "display_name": "Python 3 (ipykernel)",
   "language": "python",
   "name": "python3"
  },
  "language_info": {
   "codemirror_mode": {
    "name": "ipython",
    "version": 3
   },
   "file_extension": ".py",
   "mimetype": "text/x-python",
   "name": "python",
   "nbconvert_exporter": "python",
   "pygments_lexer": "ipython3",
   "version": "3.11.7"
  }
 },
 "nbformat": 4,
 "nbformat_minor": 5
}
